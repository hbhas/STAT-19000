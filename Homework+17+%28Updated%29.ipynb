{
 "cells": [
  {
   "cell_type": "markdown",
   "metadata": {},
   "source": [
    "# Project 17"
   ]
  },
  {
   "cell_type": "markdown",
   "metadata": {},
   "source": [
    "Name: Hemali Bhas"
   ]
  },
  {
   "cell_type": "markdown",
   "metadata": {},
   "source": [
    "Recall the 2018 election data, available here:\n",
    "/depot/statclass/data/election2018/itcont.txt\n",
    "and the data dictionary for this data, which is available here:\n",
    "https://www.fec.gov/campaign-finance-data/contributions-individuals-\n",
    "file-description/"
   ]
  },
  {
   "cell_type": "markdown",
   "metadata": {},
   "source": [
    "**1a.** Use the system command in R to read the data\n",
    "     for the first 100,000 donations\n",
    "     and store this data into a file called:  shortfile.txt\n",
    "     (We use .txt instead of .csv because\n",
    "      the file is not comma delimited.)"
   ]
  },
  {
   "cell_type": "code",
   "execution_count": 1,
   "metadata": {
    "collapsed": true
   },
   "outputs": [],
   "source": [
    "system(\"head -n100000 /depot/statclass/data/election2018/itcont.txt >shortfile.txt\")\n"
   ]
  },
  {
   "cell_type": "markdown",
   "metadata": {},
   "source": [
    "This code takes the first 100,000 lines which represent the donations and stores them into a system."
   ]
  },
  {
   "cell_type": "markdown",
   "metadata": {},
   "source": [
    "**1b.** Use the read.csv command to read this data\n",
    "      into a data frame in R, called:  myDF\n",
    "     (Hint: check the help for read.csv:\n",
    "      ?read.csv\n",
    "      to remind yourself about the \"sep\" and\n",
    "      the \"header\" parameters for read.csv.\n",
    "      In particular, this data has \"|\" as the separator between\n",
    "      the data elements, and it does not have a header.)"
   ]
  },
  {
   "cell_type": "code",
   "execution_count": 2,
   "metadata": {
    "collapsed": true
   },
   "outputs": [],
   "source": [
    "myDF <- read.csv(\"shortfile.txt\",header = FALSE,sep = \"|\")"
   ]
  },
  {
   "cell_type": "markdown",
   "metadata": {},
   "source": [
    "This code puts the data into myDF, making it much easier to read each component of the set."
   ]
  },
  {
   "cell_type": "markdown",
   "metadata": {},
   "source": [
    "**1c.** Check the dimension of the resulting data frame.\n",
    "     It should be 100,000 rows and 21 columns."
   ]
  },
  {
   "cell_type": "code",
   "execution_count": 2,
   "metadata": {
    "collapsed": true
   },
   "outputs": [],
   "source": [
    "dim(myDF)"
   ]
  },
  {
   "cell_type": "markdown",
   "metadata": {},
   "source": [
    "This shows the dimension of the data frame, which reveals 21 columns and 100,000 rows."
   ]
  },
  {
   "cell_type": "markdown",
   "metadata": {},
   "source": [
    "**2a.** Split the data for these 100,000 donations according to the State\n",
    "     from which the donation was given.\n",
    "     Store the resulting data in a list called:  myresult\n",
    "     (Hint: Check the data dictionary for the meanings of the columns,\n",
    "      since we do not have column headers.)\n",
    "     (Another hint:  Remember that we can refer to a column\n",
    "                     of data in a data frame\n",
    "                     by its number, for instance, myDF[[8]]\n",
    "                     is the name of the donor.)"
   ]
  },
  {
   "cell_type": "code",
   "execution_count": 2,
   "metadata": {
    "collapsed": true
   },
   "outputs": [],
   "source": [
    "myresult <- split(myDF[[10]])"
   ]
  },
  {
   "cell_type": "markdown",
   "metadata": {},
   "source": [
    "This code splits the data according to the State, which is represented in the 10th position."
   ]
  },
  {
   "cell_type": "markdown",
   "metadata": {},
   "source": [
    "**2b.** Check the names of myresult:\n",
    "     names(myresult)\n",
    "     We see the the first element of the list does not have a name.\n",
    "     This is a pain!  To solve this,\n",
    "     you can give it a name, for instance, by writing:\n",
    "     names(myresult)[1] <- \"unknown\"\n",
    "     (or any other kind of name that you want,\n",
    "      to indicate that the name is unknown)"
   ]
  },
  {
   "cell_type": "code",
   "execution_count": 2,
   "metadata": {
    "collapsed": true
   },
   "outputs": [],
   "source": [
    "names(myresult)\n",
    "names(myresult)[1] <- \"noname\""
   ]
  },
  {
   "cell_type": "markdown",
   "metadata": {},
   "source": [
    "This just names the first element of the list as \"noname\"."
   ]
  },
  {
   "cell_type": "markdown",
   "metadata": {},
   "source": [
    "**3a.** Find the mean donation amount, according to each state."
   ]
  },
  {
   "cell_type": "code",
   "execution_count": 2,
   "metadata": {
    "collapsed": true
   },
   "outputs": [],
   "source": [
    "length(myresult)\n",
    "sapply(myresult, mean, 10)"
   ]
  },
  {
   "cell_type": "markdown",
   "metadata": {},
   "source": [
    "This code shows us the length of the result and finds the mean donation amount, but specifically by each state (represented by 10)."
   ]
  },
  {
   "cell_type": "markdown",
   "metadata": {},
   "source": [
    "**3b.** What is the mean donation from Hoosiers\n",
    "     (i.e., for people from Indiana)?"
   ]
  },
  {
   "cell_type": "code",
   "execution_count": 2,
   "metadata": {
    "collapsed": true
   },
   "outputs": [],
   "source": [
    "sapply(myresult, mean, 10[[IND]])"
   ]
  },
  {
   "cell_type": "markdown",
   "metadata": {},
   "source": [
    "This shows the mean donation from the state of Indiana."
   ]
  },
  {
   "cell_type": "markdown",
   "metadata": {},
   "source": [
    "**3c.** Find the standard deviation of the donation amount,\n",
    "     according to each state."
   ]
  },
  {
   "cell_type": "code",
   "execution_count": 2,
   "metadata": {
    "collapsed": true
   },
   "outputs": [],
   "source": [
    "sapply(myresult, sd, 10)"
   ]
  },
  {
   "cell_type": "markdown",
   "metadata": {},
   "source": [
    "This finds the standard deviation of the donation amount, but specifically by each state (represented by 10)."
   ]
  },
  {
   "cell_type": "markdown",
   "metadata": {},
   "source": [
    "**3d.** Find the number of donations, according to each state."
   ]
  },
  {
   "cell_type": "markdown",
   "metadata": {},
   "source": [
    "**3e.** For a sanity check, make sure that\n",
    "     the number of donations in 3d adds up to 100,000 altogether."
   ]
  },
  {
   "cell_type": "code",
   "execution_count": 2,
   "metadata": {
    "collapsed": true
   },
   "outputs": [],
   "source": [
    "sapply(myresult, length)"
   ]
  },
  {
   "cell_type": "markdown",
   "metadata": {},
   "source": [
    "This shows the length of the result, which ensures that we know the number of donations from 3d add up to 100,000."
   ]
  }
 ],
 "metadata": {
  "kernelspec": {
   "display_name": "R",
   "language": "R",
   "name": "ir"
  },
  "language_info": {
   "codemirror_mode": "r",
   "file_extension": ".r",
   "mimetype": "text/x-r-source",
   "name": "R",
   "pygments_lexer": "r",
   "version": "3.4.3"
  }
 },
 "nbformat": 4,
 "nbformat_minor": 2
}
