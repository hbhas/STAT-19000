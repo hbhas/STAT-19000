{
 "cells": [
  {
   "cell_type": "code",
   "execution_count": 1,
   "metadata": {},
   "outputs": [
    {
     "ename": "ERROR",
     "evalue": "Error in parse(text = x, srcfile = src): <text>:1:40: unexpected ','\n1: myDF = read.csv(\"MyIndianaFlights.csv\"),\n                                           ^\n",
     "output_type": "error",
     "traceback": [
      "Error in parse(text = x, srcfile = src): <text>:1:40: unexpected ','\n1: myDF = read.csv(\"MyIndianaFlights.csv\"),\n                                           ^\nTraceback:\n"
     ]
    }
   ],
   "source": [
    "myDF = read.csv(\"MyIndianaFlights.csv\"), header=FALSE\n",
    "table(myDF)\n",
    "print(\"This code imports the flight data from the previous project and stores them in a table for me to see where the most popular destinations where for travelers who left Indy.\")"
   ]
  }
 ],
 "metadata": {
  "kernelspec": {
   "display_name": "R",
   "language": "R",
   "name": "ir"
  }
 },
 "nbformat": 4,
 "nbformat_minor": 2
}
