{
 "cells": [
  {
   "cell_type": "code",
   "execution_count": 3,
   "metadata": {},
   "outputs": [
    {
     "name": "stdout",
     "output_type": "stream",
     "text": [
      "bash: cd: /depot/statclass/data/dataexpo2009/2007.csv: Not a directory\n",
      "bash: //This: No such file or directory\n"
     ]
    },
    {
     "ename": "",
     "evalue": "127",
     "output_type": "error",
     "traceback": []
    }
   ],
   "source": [
    "cd /depot/statclass/data/dataexpo2009/2007.csv\n",
    "cat /depot/statclass/data/dataexpo2009/2*.csv | awk -F, '{if($17 == \"IND\") {print $0}}' >MyIndyFlights.csv\n",
    "print(\"This code calls the for the data that shows the first 10 lines of the 2007 flight data and then stores the information about all the flights leaving from Indy since January 1, 2001.\") "
   ]
  },
  {
   "cell_type": "code",
   "execution_count": null,
   "metadata": {
    "collapsed": true
   },
   "outputs": [],
   "source": []
  }
 ],
 "metadata": {
  "kernelspec": {
   "display_name": "Bash",
   "language": "bash",
   "name": "bash"
  },
  "language_info": {
   "codemirror_mode": "shell",
   "file_extension": ".sh",
   "mimetype": "text/x-sh",
   "name": "bash"
  }
 },
 "nbformat": 4,
 "nbformat_minor": 2
}
